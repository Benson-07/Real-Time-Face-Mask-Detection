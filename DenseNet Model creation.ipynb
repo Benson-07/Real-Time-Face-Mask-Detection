{
 "cells": [
  {
   "cell_type": "code",
   "execution_count": 1,
   "id": "1f6b9cfa",
   "metadata": {},
   "outputs": [
    {
     "name": "stdout",
     "output_type": "stream",
     "text": [
      "Found 18677 images belonging to 2 classes.\n",
      "Found 4668 images belonging to 2 classes.\n"
     ]
    }
   ],
   "source": [
    "import tensorflow as tf\n",
    "from tensorflow.keras.preprocessing.image import ImageDataGenerator\n",
    "\n",
    "train_datagen = ImageDataGenerator(\n",
    "    rescale=1./255,\n",
    "    validation_split=0.2,\n",
    "    rotation_range=10,\n",
    "    horizontal_flip=True,\n",
    "    zoom_range=0.1,\n",
    "    shear_range=0.1\n",
    ")\n",
    "\n",
    "\n",
    "#Create Traning Data\n",
    "train_generator = train_datagen.flow_from_directory(\n",
    "    'F:/Project/Final Dataset',\n",
    "    target_size=(224, 224),\n",
    "    batch_size=32,\n",
    "    class_mode='categorical',\n",
    "    subset='training'\n",
    ")\n",
    "\n",
    "#Create Validation Data\n",
    "validation_generator = train_datagen.flow_from_directory(\n",
    "    'F:/Project/Final Dataset',\n",
    "    target_size=(224, 224),\n",
    "    batch_size=32,\n",
    "    class_mode='categorical',\n",
    "    subset='validation'\n",
    ")\n"
   ]
  },
  {
   "cell_type": "code",
   "execution_count": 8,
   "id": "2ac261f4",
   "metadata": {},
   "outputs": [
    {
     "name": "stdout",
     "output_type": "stream",
     "text": [
      "Downloading data from https://storage.googleapis.com/tensorflow/keras-applications/densenet/densenet121_weights_tf_dim_ordering_tf_kernels_notop.h5\n",
      "29084464/29084464 [==============================] - 9s 0us/step\n"
     ]
    }
   ],
   "source": [
    "base_model = tf.keras.applications.DenseNet121(input_shape=(224, 224, 3),\n",
    "                                               include_top=False,\n",
    "                                               weights='imagenet')\n"
   ]
  },
  {
   "cell_type": "code",
   "execution_count": 9,
   "id": "73deddfa",
   "metadata": {},
   "outputs": [],
   "source": [
    "# Freeze the base model layers\n",
    "base_model.trainable = False"
   ]
  },
  {
   "cell_type": "code",
   "execution_count": 10,
   "id": "48592355",
   "metadata": {},
   "outputs": [],
   "source": [
    "# Add custom layers on top of the base model for classification\n",
    "model = tf.keras.models.Sequential([\n",
    "    base_model,\n",
    "    tf.keras.layers.Flatten(),\n",
    "    tf.keras.layers.Dense(128, activation='relu'),\n",
    "    tf.keras.layers.Dropout(0.5),\n",
    "    tf.keras.layers.Dense(2, activation='softmax')\n",
    "])"
   ]
  },
  {
   "cell_type": "code",
   "execution_count": 11,
   "id": "86e54c83",
   "metadata": {},
   "outputs": [],
   "source": [
    "# Compile the model\n",
    "model.compile(optimizer=tf.keras.optimizers.Adam(),\n",
    "              loss=tf.keras.losses.CategoricalCrossentropy(),\n",
    "              metrics=['accuracy'])"
   ]
  },
  {
   "cell_type": "code",
   "execution_count": 12,
   "id": "1666e2de",
   "metadata": {},
   "outputs": [],
   "source": [
    "# Set up early stopping\n",
    "from keras.callbacks import EarlyStopping\n",
    "\n",
    "early_stop = EarlyStopping(monitor='val_loss', patience=3, restore_best_weights=True)\n"
   ]
  },
  {
   "cell_type": "code",
   "execution_count": 13,
   "id": "a654743b",
   "metadata": {},
   "outputs": [
    {
     "name": "stdout",
     "output_type": "stream",
     "text": [
      "Epoch 1/10\n",
      "584/584 [==============================] - 863s 1s/step - loss: 0.2125 - accuracy: 0.9654 - val_loss: 0.0269 - val_accuracy: 0.9916\n",
      "Epoch 2/10\n",
      "584/584 [==============================] - 870s 1s/step - loss: 0.0597 - accuracy: 0.9788 - val_loss: 0.0152 - val_accuracy: 0.9942\n",
      "Epoch 3/10\n",
      "584/584 [==============================] - 867s 1s/step - loss: 0.0432 - accuracy: 0.9852 - val_loss: 0.0353 - val_accuracy: 0.9859\n",
      "Epoch 4/10\n",
      "584/584 [==============================] - 865s 1s/step - loss: 0.0407 - accuracy: 0.9848 - val_loss: 0.0133 - val_accuracy: 0.9964\n",
      "Epoch 5/10\n",
      "584/584 [==============================] - 896s 2s/step - loss: 0.0417 - accuracy: 0.9845 - val_loss: 0.0168 - val_accuracy: 0.9949\n",
      "Epoch 6/10\n",
      "584/584 [==============================] - 902s 2s/step - loss: 0.0404 - accuracy: 0.9860 - val_loss: 0.0176 - val_accuracy: 0.9957\n",
      "Epoch 7/10\n",
      "584/584 [==============================] - 879s 2s/step - loss: 0.0310 - accuracy: 0.9886 - val_loss: 0.0156 - val_accuracy: 0.9955\n"
     ]
    }
   ],
   "source": [
    "history = model.fit(train_generator,\n",
    "                    epochs=10,\n",
    "                    validation_data=validation_generator,\n",
    "                    callbacks=[early_stop])\n"
   ]
  },
  {
   "cell_type": "code",
   "execution_count": 14,
   "id": "1edfafbc",
   "metadata": {},
   "outputs": [],
   "source": [
    "model.save('project17_DenseNetModel.h5')"
   ]
  },
  {
   "cell_type": "code",
   "execution_count": null,
   "id": "dbf1a288",
   "metadata": {},
   "outputs": [],
   "source": []
  }
 ],
 "metadata": {
  "kernelspec": {
   "display_name": "Python 3 (ipykernel)",
   "language": "python",
   "name": "python3"
  },
  "language_info": {
   "codemirror_mode": {
    "name": "ipython",
    "version": 3
   },
   "file_extension": ".py",
   "mimetype": "text/x-python",
   "name": "python",
   "nbconvert_exporter": "python",
   "pygments_lexer": "ipython3",
   "version": "3.9.13"
  }
 },
 "nbformat": 4,
 "nbformat_minor": 5
}
