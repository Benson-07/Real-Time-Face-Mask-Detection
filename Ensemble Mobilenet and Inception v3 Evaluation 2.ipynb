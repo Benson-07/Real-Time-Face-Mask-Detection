{
 "cells": [
  {
   "cell_type": "code",
   "execution_count": 1,
   "id": "9358f1fe",
   "metadata": {},
   "outputs": [
    {
     "name": "stdout",
     "output_type": "stream",
     "text": [
      "Found 10000 images belonging to 2 classes.\n",
      "313/313 [==============================] - 243s 764ms/step\n",
      "313/313 [==============================] - 186s 590ms/step\n",
      "F1 score: 0.9768672809253088\n",
      "Precision: 0.9579008073817762\n",
      "Recall: 0.9966\n",
      "Accuracy: 0.9764\n",
      "Confusion matrix:\n",
      "[[4781  219]\n",
      " [  17 4983]]\n",
      "Classification report:\n",
      "              precision    recall  f1-score   support\n",
      "\n",
      "    WithMask       1.00      0.96      0.98      5000\n",
      " WithoutMask       0.96      1.00      0.98      5000\n",
      "\n",
      "    accuracy                           0.98     10000\n",
      "   macro avg       0.98      0.98      0.98     10000\n",
      "weighted avg       0.98      0.98      0.98     10000\n",
      "\n"
     ]
    }
   ],
   "source": [
    "import numpy as np\n",
    "import tensorflow as tf\n",
    "from tensorflow.keras.preprocessing.image import ImageDataGenerator\n",
    "from sklearn.metrics import classification_report, confusion_matrix, f1_score, precision_score, recall_score, accuracy_score\n",
    "\n",
    "# Load the saved models\n",
    "model1 = tf.keras.models.load_model('project17_InceptionV3model.h5')\n",
    "model2 = tf.keras.models.load_model('project17_model.h5')\n",
    "\n",
    "# Load the test set using an ImageDataGenerator\n",
    "test_datagen = ImageDataGenerator(rescale=1./255)\n",
    "test_generator = test_datagen.flow_from_directory(\n",
    "    'F:/Test dataset 2',\n",
    "    target_size=(224, 224),\n",
    "    batch_size=32,\n",
    "    class_mode='categorical',\n",
    "    shuffle=False\n",
    ")\n",
    "\n",
    "# Use the models to make predictions on the test set\n",
    "y_pred1 = model1.predict(test_generator)\n",
    "y_pred2 = model2.predict(test_generator)\n",
    "\n",
    "# Take the average of the predictions\n",
    "ensemble_preds = np.mean([y_pred1, y_pred2], axis=0)\n",
    "\n",
    "# Convert the predictions to class labels (0 for no mask, 1 for mask)\n",
    "ensemble_preds = np.argmax(ensemble_preds, axis=1)\n",
    "\n",
    "# Get the true labels for the test set\n",
    "y_true = test_generator.classes\n",
    "\n",
    "# Compute various evaluation metrics\n",
    "f1 = f1_score(y_true, ensemble_preds)\n",
    "precision = precision_score(y_true, ensemble_preds)\n",
    "recall = recall_score(y_true, ensemble_preds)\n",
    "accuracy = accuracy_score(y_true, ensemble_preds)\n",
    "\n",
    "# Print the evaluation metrics\n",
    "print('F1 score:', f1)\n",
    "print('Precision:', precision)\n",
    "print('Recall:', recall)\n",
    "print('Accuracy:', accuracy)\n",
    "\n",
    "# Compute the confusion matrix and print it\n",
    "cm = confusion_matrix(y_true, ensemble_preds)\n",
    "print('Confusion matrix:')\n",
    "print(cm)\n",
    "\n",
    "# Generate a classification report and print it\n",
    "cr = classification_report(y_true, ensemble_preds, target_names=test_generator.class_indices.keys())\n",
    "print('Classification report:')\n",
    "print(cr)\n"
   ]
  },
  {
   "cell_type": "code",
   "execution_count": null,
   "id": "cd40117a",
   "metadata": {},
   "outputs": [],
   "source": []
  }
 ],
 "metadata": {
  "kernelspec": {
   "display_name": "Python 3 (ipykernel)",
   "language": "python",
   "name": "python3"
  },
  "language_info": {
   "codemirror_mode": {
    "name": "ipython",
    "version": 3
   },
   "file_extension": ".py",
   "mimetype": "text/x-python",
   "name": "python",
   "nbconvert_exporter": "python",
   "pygments_lexer": "ipython3",
   "version": "3.9.13"
  }
 },
 "nbformat": 4,
 "nbformat_minor": 5
}
