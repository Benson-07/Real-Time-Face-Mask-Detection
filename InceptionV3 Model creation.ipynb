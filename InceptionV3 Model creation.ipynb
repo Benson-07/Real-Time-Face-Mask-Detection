{
 "cells": [
  {
   "cell_type": "code",
   "execution_count": 18,
   "id": "58126630",
   "metadata": {},
   "outputs": [
    {
     "name": "stdout",
     "output_type": "stream",
     "text": [
      "Found 18677 images belonging to 2 classes.\n",
      "Found 4668 images belonging to 2 classes.\n"
     ]
    }
   ],
   "source": [
    "import tensorflow as tf\n",
    "from tensorflow.keras.preprocessing.image import ImageDataGenerator\n",
    "\n",
    "train_datagen = ImageDataGenerator(\n",
    "    rescale=1./255,\n",
    "    validation_split=0.2,\n",
    "    rotation_range=10,\n",
    "    horizontal_flip=True,\n",
    "    zoom_range=0.1,\n",
    "    shear_range=0.1\n",
    ")\n",
    "\n",
    "\n",
    "\n",
    "train_generator = train_datagen.flow_from_directory(\n",
    "    'F:/Project/Final Dataset',\n",
    "    target_size=(224, 224),\n",
    "    batch_size=32,\n",
    "    class_mode='categorical',\n",
    "    subset='training'\n",
    ")\n",
    "\n",
    "validation_generator = train_datagen.flow_from_directory(\n",
    "    'F:/Project/Final Dataset',\n",
    "    target_size=(224, 224),\n",
    "    batch_size=32,\n",
    "    class_mode='categorical',\n",
    "    subset='validation'\n",
    ")\n"
   ]
  },
  {
   "cell_type": "code",
   "execution_count": 19,
   "id": "62ea32a9",
   "metadata": {},
   "outputs": [],
   "source": [
    "base_model = tf.keras.applications.InceptionV3(input_shape=(224, 224, 3),\n",
    "                                               include_top=False,\n",
    "                                               weights='imagenet')"
   ]
  },
  {
   "cell_type": "code",
   "execution_count": 20,
   "id": "bb740ea5",
   "metadata": {},
   "outputs": [],
   "source": [
    "# Freeze the base model layers\n",
    "base_model.trainable = False"
   ]
  },
  {
   "cell_type": "code",
   "execution_count": 21,
   "id": "ae8e8012",
   "metadata": {},
   "outputs": [],
   "source": [
    "# Add custom layers on top of the base model for classification\n",
    "model = tf.keras.models.Sequential([\n",
    "    base_model,\n",
    "    tf.keras.layers.Flatten(),\n",
    "    tf.keras.layers.Dense(128, activation='relu'),\n",
    "    tf.keras.layers.Dropout(0.5),\n",
    "    tf.keras.layers.Dense(2, activation='softmax')\n",
    "])"
   ]
  },
  {
   "cell_type": "code",
   "execution_count": 22,
   "id": "995b8ae1",
   "metadata": {},
   "outputs": [],
   "source": [
    "# Compile the model\n",
    "model.compile(optimizer=tf.keras.optimizers.Adam(),\n",
    "              loss=tf.keras.losses.CategoricalCrossentropy(),\n",
    "              metrics=['accuracy'])"
   ]
  },
  {
   "cell_type": "code",
   "execution_count": 23,
   "id": "433d0787",
   "metadata": {},
   "outputs": [
    {
     "name": "stdout",
     "output_type": "stream",
     "text": [
      "Model: \"sequential_2\"\n",
      "_________________________________________________________________\n",
      " Layer (type)                Output Shape              Param #   \n",
      "=================================================================\n",
      " inception_v3 (Functional)   (None, 5, 5, 2048)        21802784  \n",
      "                                                                 \n",
      " flatten_2 (Flatten)         (None, 51200)             0         \n",
      "                                                                 \n",
      " dense_4 (Dense)             (None, 128)               6553728   \n",
      "                                                                 \n",
      " dropout_2 (Dropout)         (None, 128)               0         \n",
      "                                                                 \n",
      " dense_5 (Dense)             (None, 2)                 258       \n",
      "                                                                 \n",
      "=================================================================\n",
      "Total params: 28,356,770\n",
      "Trainable params: 6,553,986\n",
      "Non-trainable params: 21,802,784\n",
      "_________________________________________________________________\n"
     ]
    }
   ],
   "source": [
    "model.summary()"
   ]
  },
  {
   "cell_type": "code",
   "execution_count": 24,
   "id": "8853ea36",
   "metadata": {},
   "outputs": [],
   "source": [
    "# Set up early stopping\n",
    "from keras.callbacks import EarlyStopping\n",
    "\n",
    "early_stop = EarlyStopping(monitor='val_loss', patience=3, restore_best_weights=True)\n"
   ]
  },
  {
   "cell_type": "code",
   "execution_count": 25,
   "id": "79daa067",
   "metadata": {},
   "outputs": [
    {
     "name": "stdout",
     "output_type": "stream",
     "text": [
      "Epoch 1/10\n",
      "584/584 [==============================] - 716s 1s/step - loss: 0.3285 - accuracy: 0.9381 - val_loss: 0.0628 - val_accuracy: 0.9809\n",
      "Epoch 2/10\n",
      "584/584 [==============================] - 745s 1s/step - loss: 0.1200 - accuracy: 0.9565 - val_loss: 0.0401 - val_accuracy: 0.9893\n",
      "Epoch 3/10\n",
      "584/584 [==============================] - 738s 1s/step - loss: 0.0939 - accuracy: 0.9656 - val_loss: 0.0529 - val_accuracy: 0.9846\n",
      "Epoch 4/10\n",
      "584/584 [==============================] - 735s 1s/step - loss: 0.0970 - accuracy: 0.9613 - val_loss: 0.0368 - val_accuracy: 0.9882\n",
      "Epoch 5/10\n",
      "584/584 [==============================] - 747s 1s/step - loss: 0.0868 - accuracy: 0.9613 - val_loss: 0.0494 - val_accuracy: 0.9835\n",
      "Epoch 6/10\n",
      "584/584 [==============================] - 737s 1s/step - loss: 0.0744 - accuracy: 0.9716 - val_loss: 0.0449 - val_accuracy: 0.9826\n",
      "Epoch 7/10\n",
      "584/584 [==============================] - 737s 1s/step - loss: 0.0715 - accuracy: 0.9748 - val_loss: 0.0341 - val_accuracy: 0.9880\n",
      "Epoch 8/10\n",
      "584/584 [==============================] - 741s 1s/step - loss: 0.0698 - accuracy: 0.9724 - val_loss: 0.0882 - val_accuracy: 0.9685\n",
      "Epoch 9/10\n",
      "584/584 [==============================] - 741s 1s/step - loss: 0.0651 - accuracy: 0.9753 - val_loss: 0.0307 - val_accuracy: 0.9906\n",
      "Epoch 10/10\n",
      "584/584 [==============================] - 706s 1s/step - loss: 0.0590 - accuracy: 0.9773 - val_loss: 0.0304 - val_accuracy: 0.9906\n"
     ]
    }
   ],
   "source": [
    "history = model.fit(train_generator,\n",
    "                    epochs=10,\n",
    "                    validation_data=validation_generator,\n",
    "                    callbacks=[early_stop])\n"
   ]
  },
  {
   "cell_type": "code",
   "execution_count": 26,
   "id": "595adb1b",
   "metadata": {},
   "outputs": [],
   "source": [
    "\n"
   ]
  },
  {
   "cell_type": "code",
   "execution_count": 27,
   "id": "2aa8cb46",
   "metadata": {},
   "outputs": [
    {
     "name": "stdout",
     "output_type": "stream",
     "text": [
      "Epoch 11/15\n",
      "584/584 [==============================] - 660s 1s/step - loss: 0.0688 - accuracy: 0.9723 - val_loss: 0.0291 - val_accuracy: 0.9906\n",
      "Epoch 12/15\n",
      "584/584 [==============================] - 835s 1s/step - loss: 0.0690 - accuracy: 0.9669 - val_loss: 0.0388 - val_accuracy: 0.9869\n",
      "Epoch 13/15\n",
      "584/584 [==============================] - 1028s 2s/step - loss: 0.0671 - accuracy: 0.9729 - val_loss: 0.0448 - val_accuracy: 0.9837\n",
      "Epoch 14/15\n",
      "584/584 [==============================] - 660s 1s/step - loss: 0.0556 - accuracy: 0.9785 - val_loss: 0.0316 - val_accuracy: 0.9897\n"
     ]
    }
   ],
   "source": [
    "history = model.fit(train_generator,\n",
    "                    epochs=15,\n",
    "                    validation_data=validation_generator,\n",
    "                    callbacks=[early_stop],\n",
    "                    initial_epoch=10)\n"
   ]
  },
  {
   "cell_type": "code",
   "execution_count": 28,
   "id": "059ffb14",
   "metadata": {},
   "outputs": [],
   "source": [
    "model.save('project17_InceptionV3model.h5')"
   ]
  },
  {
   "cell_type": "code",
   "execution_count": null,
   "id": "e6947d7d",
   "metadata": {},
   "outputs": [],
   "source": []
  }
 ],
 "metadata": {
  "kernelspec": {
   "display_name": "Python 3 (ipykernel)",
   "language": "python",
   "name": "python3"
  },
  "language_info": {
   "codemirror_mode": {
    "name": "ipython",
    "version": 3
   },
   "file_extension": ".py",
   "mimetype": "text/x-python",
   "name": "python",
   "nbconvert_exporter": "python",
   "pygments_lexer": "ipython3",
   "version": "3.9.13"
  }
 },
 "nbformat": 4,
 "nbformat_minor": 5
}
