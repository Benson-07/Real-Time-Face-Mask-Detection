{
 "cells": [
  {
   "cell_type": "code",
   "execution_count": 5,
   "id": "47abd4eb",
   "metadata": {},
   "outputs": [
    {
     "name": "stdout",
     "output_type": "stream",
     "text": [
      "Found 10000 images belonging to 2 classes.\n",
      "313/313 [==============================] - 385s 1s/step\n",
      "F1 score: 0.9758349705304518\n",
      "Precision: 0.9588803088803088\n",
      "Recall: 0.9934\n",
      "Accuracy: 0.9754\n",
      "Confusion matrix:\n",
      "[[4787  213]\n",
      " [  33 4967]]\n",
      "Classification report:\n",
      "              precision    recall  f1-score   support\n",
      "\n",
      "    WithMask       0.99      0.96      0.97      5000\n",
      " WithoutMask       0.96      0.99      0.98      5000\n",
      "\n",
      "    accuracy                           0.98     10000\n",
      "   macro avg       0.98      0.98      0.98     10000\n",
      "weighted avg       0.98      0.98      0.98     10000\n",
      "\n"
     ]
    }
   ],
   "source": [
    "import numpy as np\n",
    "import tensorflow as tf\n",
    "from tensorflow.keras.preprocessing.image import ImageDataGenerator\n",
    "from sklearn.metrics import classification_report, confusion_matrix, f1_score, precision_score, recall_score, accuracy_score\n",
    "\n",
    "# Load the saved model\n",
    "model = tf.keras.models.load_model('project17_DenseNetmodel.h5')\n",
    "\n",
    "# Load the test set using an ImageDataGenerator\n",
    "test_datagen = ImageDataGenerator(rescale=1./255)\n",
    "test_generator = test_datagen.flow_from_directory(\n",
    "    'F:/Test dataset 2',\n",
    "    target_size=(224, 224),\n",
    "    batch_size=32,\n",
    "    class_mode='categorical',\n",
    "    shuffle=False\n",
    ")\n",
    "\n",
    "# Use the model to make predictions on the test set\n",
    "y_pred = model.predict(test_generator)\n",
    "y_pred = np.argmax(y_pred, axis=1) \n",
    "\n",
    "# Get the true labels for the test set\n",
    "y_true = test_generator.classes\n",
    "\n",
    "# Compute various evaluation metrics\n",
    "f1 = f1_score(y_true, y_pred)\n",
    "precision = precision_score(y_true, y_pred)\n",
    "recall = recall_score(y_true, y_pred)\n",
    "accuracy = accuracy_score(y_true, y_pred)\n",
    "\n",
    "# Print the evaluation metrics\n",
    "print('F1 score:', f1)\n",
    "print('Precision:', precision)\n",
    "print('Recall:', recall)\n",
    "print('Accuracy:', accuracy)\n",
    "\n",
    "# Compute the confusion matrix and print it\n",
    "cm = confusion_matrix(y_true, y_pred)\n",
    "print('Confusion matrix:')\n",
    "print(cm)\n",
    "\n",
    "# Generate a classification report and print it\n",
    "cr = classification_report(y_true, y_pred, target_names=test_generator.class_indices.keys())\n",
    "print('Classification report:')\n",
    "print(cr)\n"
   ]
  },
  {
   "cell_type": "code",
   "execution_count": null,
   "id": "59ffb3bc",
   "metadata": {},
   "outputs": [],
   "source": []
  }
 ],
 "metadata": {
  "kernelspec": {
   "display_name": "Python 3 (ipykernel)",
   "language": "python",
   "name": "python3"
  },
  "language_info": {
   "codemirror_mode": {
    "name": "ipython",
    "version": 3
   },
   "file_extension": ".py",
   "mimetype": "text/x-python",
   "name": "python",
   "nbconvert_exporter": "python",
   "pygments_lexer": "ipython3",
   "version": "3.9.13"
  }
 },
 "nbformat": 4,
 "nbformat_minor": 5
}
